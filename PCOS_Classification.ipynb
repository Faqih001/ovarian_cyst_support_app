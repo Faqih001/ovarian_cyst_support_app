{
  "cells": [
    {
      "cell_type": "markdown",
      "metadata": {
        "id": "view-in-github",
        "colab_type": "text"
      },
      "source": [
        "<a href=\"https://colab.research.google.com/github/Faqih001/ovarian_cyst_support_app/blob/main/PCOS_Classification.ipynb\" target=\"_parent\"><img src=\"https://colab.research.google.com/assets/colab-badge.svg\" alt=\"Open In Colab\"/></a>"
      ]
    },
    {
      "source": [
        "# IMPORTANT: RUN THIS CELL IN ORDER TO IMPORT YOUR KAGGLE DATA SOURCES,\n",
        "# THEN FEEL FREE TO DELETE THIS CELL.\n",
        "# NOTE: THIS NOTEBOOK ENVIRONMENT DIFFERS FROM KAGGLE'S PYTHON\n",
        "# ENVIRONMENT SO THERE MAY BE MISSING LIBRARIES USED BY YOUR\n",
        "# NOTEBOOK.\n",
        "import kagglehub\n",
        "prasoonkottarathil_polycystic_ovary_syndrome_pcos_path = kagglehub.dataset_download('prasoonkottarathil/polycystic-ovary-syndrome-pcos')\n",
        "\n",
        "print('Data source import complete.')\n"
      ],
      "metadata": {
        "id": "rsmlHHHd5qE_"
      },
      "cell_type": "code",
      "outputs": [],
      "execution_count": null
    },
    {
      "metadata": {
        "id": "1WkjOuUF5qFA"
      },
      "cell_type": "markdown",
      "source": [
        "<h1 style=\"text-align:center\">   \n",
        "      <font color = purple >\n",
        "                Polycystic Ovary Syndrome(PCOS) Classification\n",
        "        </font>    \n",
        "</h1>   \n",
        "<hr style=\"width:100%;height:5px;border-width:0;background-color:teal\">\n",
        "<center><img style = \"height:550px;\" src=\"https://i.hizliresim.com/QnIpYV.jpg\"></center>\n",
        "<br>\n",
        "<center><h1>\n",
        "    <font color = purple>Introduction</font> </h1></center>\n",
        "<br>\n",
        "<p>Polycystic ovary syndrome is a disorder involving infrequent, irregular or prolonged menstrual periods, and often excess male hormone (androgen) levels.</p>\n",
        "\n",
        "<h2><font color = purple>Content:</font></h2>\n",
        "<br>\n",
        "\n",
        "1. [Import Libraries](#1)\n",
        "1. [Load and Check Data](#2)\n",
        "1. [Variable Description](#3)\n",
        "    * [Univariate Variable Analysis ](#4)\n",
        "        * [Categorical Variable Analysis ](#5)\n",
        "        * [Numerical Variable Analysis ](#6)\n",
        "1. [Missing Values](#7)\n",
        "1. [Data Analysis](#8)   \n",
        "1. [Modeling](#9)\n",
        "    * [Train - Test Split](#10)\n",
        "    * [Simple Logistic Regression](#11)\n",
        "    * [Hyperparameter Tuning -- Grid Search -- Cross Validation](#12)\n",
        "    * [XGBRF and CatBoost Classsifier](#13)\n",
        "1. [Results](#14)"
      ]
    },
    {
      "metadata": {
        "id": "D1lJupvW5qFC"
      },
      "cell_type": "markdown",
      "source": [
        "<a id = \"1\" ></a>\n",
        "# <span style=\"color:purple;\"> Import Libraries </span>"
      ]
    },
    {
      "metadata": {
        "_uuid": "8f2839f25d086af736a60e9eeb907d3b93b6e0e5",
        "_cell_guid": "b1076dfc-b9ad-4769-8c92-a6c4dae69d19",
        "trusted": true,
        "id": "wNrsqn-O5qFD"
      },
      "cell_type": "code",
      "source": [
        "import numpy as np\n",
        "import pandas as pd\n",
        "import matplotlib.pyplot as plt\n",
        "import seaborn as sns\n",
        "\n",
        "from collections import Counter\n",
        "from mlxtend.plotting import plot_confusion_matrix\n",
        "from sklearn.model_selection import train_test_split, StratifiedKFold, GridSearchCV\n",
        "from sklearn.linear_model import LogisticRegression\n",
        "from sklearn.svm import SVC\n",
        "from sklearn.ensemble import RandomForestClassifier, VotingClassifier\n",
        "from sklearn.neighbors import KNeighborsClassifier\n",
        "from sklearn.tree import DecisionTreeClassifier\n",
        "import xgboost\n",
        "import lightgbm\n",
        "from catboost import CatBoostClassifier\n",
        "from sklearn.metrics import confusion_matrix, accuracy_score\n",
        "\n",
        "import warnings\n",
        "warnings.filterwarnings('ignore')\n",
        "\n",
        "import os\n",
        "for dirname, _, filenames in os.walk('/kaggle/input'):\n",
        "    for filename in filenames:\n",
        "        print(os.path.join(dirname, filename))\n"
      ],
      "execution_count": null,
      "outputs": []
    },
    {
      "metadata": {
        "id": "EurR9lkc5qFE"
      },
      "cell_type": "markdown",
      "source": [
        "<a id = \"2\" ></a>\n",
        "# <span style=\"color:purple;\"> Load and Check Data </span>"
      ]
    },
    {
      "metadata": {
        "id": "6PZiKXdn5qFF"
      },
      "cell_type": "markdown",
      "source": [
        "<div style=\"color:white;\n",
        "           display:fill;\n",
        "           border-radius:5px;\n",
        "           background-color:#008080;\n",
        "           font-size:110%;\n",
        "           font-family:Verdana;\n",
        "           letter-spacing:0.5px\">\n",
        "\n",
        "<p style=\"padding: 10px;color:white;\">If you see the Missing optional dependency 'xlrd' error.You just need to install a required package before trying to use pd.read_excel.</p>\n",
        "</div>"
      ]
    },
    {
      "metadata": {
        "trusted": true,
        "id": "MRUC4Kl45qFG"
      },
      "cell_type": "code",
      "source": [
        "!pip install openpyxl"
      ],
      "execution_count": null,
      "outputs": []
    },
    {
      "metadata": {
        "trusted": true,
        "id": "EG69ks9n5qFH"
      },
      "cell_type": "code",
      "source": [
        "#Load data\n",
        "df_inf = pd.read_csv(\"/kaggle/input/polycystic-ovary-syndrome-pcos/PCOS_infertility.csv\")\n",
        "df_woinf = pd.read_excel(\"/kaggle/input/polycystic-ovary-syndrome-pcos/PCOS_data_without_infertility.xlsx\",sheet_name=\"Full_new\")"
      ],
      "execution_count": null,
      "outputs": []
    },
    {
      "metadata": {
        "trusted": true,
        "id": "mWW_RJo75qFI"
      },
      "cell_type": "code",
      "source": [
        "#Look at the data with infertile patients.\n",
        "df_inf.head()"
      ],
      "execution_count": null,
      "outputs": []
    },
    {
      "metadata": {
        "trusted": true,
        "id": "wPS80ljj5qFI"
      },
      "cell_type": "code",
      "source": [
        "#Look at the data with non-infertile patients.\n",
        "df_woinf.head()"
      ],
      "execution_count": null,
      "outputs": []
    },
    {
      "metadata": {
        "trusted": true,
        "id": "Jw2yZ_pg5qFJ"
      },
      "cell_type": "code",
      "source": [
        "#Look at the columns of data with non-infertile patients.\n",
        "df_woinf.columns"
      ],
      "execution_count": null,
      "outputs": []
    },
    {
      "metadata": {
        "id": "0Qwuionk5qFJ"
      },
      "cell_type": "markdown",
      "source": [
        "<div style=\"color:white;\n",
        "           display:fill;\n",
        "           border-radius:5px;\n",
        "           background-color:#008080;\n",
        "           font-size:110%;\n",
        "           font-family:Verdana;\n",
        "           letter-spacing:0.5px\">\n",
        "\n",
        "<p style=\"padding: 10px;color:white;\">\n",
        "    The files were divided into infertility and without-infertility patients. Let's combine them by patient file no ,delete repeated features and change PCOS(Y/N) to Target.</p>\n",
        "</div>"
      ]
    },
    {
      "metadata": {
        "trusted": true,
        "id": "c6N_rRNI5qFJ"
      },
      "cell_type": "code",
      "source": [
        "#Merge the files\n",
        "data = pd.merge(df_woinf,df_inf, on='Patient File No.', suffixes={'','_wo'},how='left')\n",
        "#Drop repeated features\n",
        "data =data.drop(['Unnamed: 44', 'Sl. No_wo', 'PCOS (Y/N)_wo', '  I   beta-HCG(mIU/mL)_wo',\n",
        "       'II    beta-HCG(mIU/mL)_wo', 'AMH(ng/mL)_wo'], axis=1)\n",
        "#Change the title of the properties\n",
        "data = data.rename(columns = {\"PCOS (Y/N)\":\"Target\"})\n",
        "#Look at the merged data.\n",
        "data.head()"
      ],
      "execution_count": null,
      "outputs": []
    },
    {
      "metadata": {
        "trusted": true,
        "id": "JOMy96xt5qFK"
      },
      "cell_type": "code",
      "source": [
        "#Drop unnecessary features\n",
        "data = data.drop([\"Sl. No\",\"Patient File No.\"],axis = 1)"
      ],
      "execution_count": null,
      "outputs": []
    },
    {
      "metadata": {
        "trusted": true,
        "id": "KlmNDCFd5qFK"
      },
      "cell_type": "code",
      "source": [
        "data.info()"
      ],
      "execution_count": null,
      "outputs": []
    },
    {
      "metadata": {
        "id": "8_7bqLji5qFK"
      },
      "cell_type": "markdown",
      "source": [
        "<div style=\"color:white;\n",
        "           display:fill;\n",
        "           border-radius:5px;\n",
        "           background-color:#008080;\n",
        "           font-size:110%;\n",
        "           font-family:Verdana;\n",
        "           letter-spacing:0.5px\">\n",
        "\n",
        "<p style=\"padding: 10px;color:white;\">\n",
        "    Let's look at the dtype is an object</p>\n",
        "</div>"
      ]
    },
    {
      "metadata": {
        "trusted": true,
        "id": "MK9FzfE05qFL"
      },
      "cell_type": "code",
      "source": [
        "data[\"AMH(ng/mL)\"].head()"
      ],
      "execution_count": null,
      "outputs": []
    },
    {
      "metadata": {
        "trusted": true,
        "id": "vP0Wjha05qFL"
      },
      "cell_type": "code",
      "source": [
        "data[\"II    beta-HCG(mIU/mL)\"].head()"
      ],
      "execution_count": null,
      "outputs": []
    },
    {
      "metadata": {
        "id": "MuJQr3qG5qFL"
      },
      "cell_type": "markdown",
      "source": [
        "<div style=\"color:white;\n",
        "           display:fill;\n",
        "           border-radius:5px;\n",
        "           background-color:#008080;\n",
        "           font-size:110%;\n",
        "           font-family:Verdana;\n",
        "           letter-spacing:0.5px\">\n",
        "\n",
        "<p style=\"padding: 10px;color:white;\">\n",
        "    As you can see some numeric data is saved as strings : AMH(ng/mL) , II    beta-HCG(mIU/mL). Let's converting them. </p>\n",
        "</div>"
      ]
    },
    {
      "metadata": {
        "trusted": true,
        "id": "LuVXNHYE5qFL"
      },
      "cell_type": "code",
      "source": [
        "#Converting\n",
        "data[\"AMH(ng/mL)\"] = pd.to_numeric(data[\"AMH(ng/mL)\"], errors='coerce')\n",
        "data[\"II    beta-HCG(mIU/mL)\"] = pd.to_numeric(data[\"II    beta-HCG(mIU/mL)\"], errors='coerce')"
      ],
      "execution_count": null,
      "outputs": []
    },
    {
      "metadata": {
        "id": "qwTi2zfv5qFM"
      },
      "cell_type": "markdown",
      "source": [
        "<a id = \"3\" ></a>\n",
        "# <span style=\"color:purple;\">Variable Description</span>"
      ]
    },
    {
      "metadata": {
        "id": "BW4rn7ao5qFM"
      },
      "cell_type": "markdown",
      "source": [
        " <a id = \"4\" ></a>\n",
        " ## <span style=\"color:purple;\">Univariate Variable Analysis</span>\n",
        "* Categorical Variable : Target,  Pregnant(Y/N), Weight gain(Y/N), hair growth(Y/N), Skin darkening (Y/N), Hair loss(Y/N), Pimples(Y/N), Fast food (Y/N), Reg.Exercise(Y/N), Blood Group\n",
        "* Numerical Variable : Age (yrs), Weight (Kg),Marraige Status (Yrs)..."
      ]
    },
    {
      "metadata": {
        "id": "JkMslDlV5qFM"
      },
      "cell_type": "markdown",
      "source": [
        "<a id = \"5\" ></a>\n",
        "## <span style=\"color:purple;\">Categorical Variable</span>"
      ]
    },
    {
      "metadata": {
        "id": "0QBs-Rbb5qFM"
      },
      "cell_type": "markdown",
      "source": [
        "<div style=\"color:white;\n",
        "           display:fill;\n",
        "           border-radius:5px;\n",
        "           background-color:#008080;\n",
        "           font-size:110%;\n",
        "           font-family:Verdana;\n",
        "           letter-spacing:0.5px\">\n",
        "\n",
        "<ul><p style=\"padding: 10px;color:white;\" >Look at the value count </p>\n",
        "        <li> <p style=\"padding: 10px;color:white;\" > yes --> 1 </p> </li>\n",
        "        <li > <p style=\"padding: 10px;color:white;\" > no  --> 0 </p> </li>\n",
        "</ul>\n",
        "</div>"
      ]
    },
    {
      "metadata": {
        "trusted": true,
        "id": "zNiPR7rS5qFN"
      },
      "cell_type": "code",
      "source": [
        "colors = ['#670067','#008080']"
      ],
      "execution_count": null,
      "outputs": []
    },
    {
      "metadata": {
        "trusted": true,
        "id": "h-5W5-3u5qFN"
      },
      "cell_type": "code",
      "source": [
        "def bar_plot(variable):\n",
        "    \"\"\"\n",
        "     input: variable example : Target\n",
        "     output: bar plot & value count\n",
        "\n",
        "    \"\"\"\n",
        "    #get feature\n",
        "    var = data[variable]\n",
        "    #count number of categorical variable(value/sample)\n",
        "    varValue = var.value_counts()\n",
        "    #visualize\n",
        "    plt.figure(figsize = (9,3))\n",
        "    plt.bar(varValue.index,varValue,color=colors)\n",
        "    plt.xticks(varValue.index,varValue.index.values)\n",
        "    plt.ylabel(\"Count\")\n",
        "    plt.title(variable)\n",
        "    plt.show()\n",
        "    print(\"{}: \\n {}\".format(variable,varValue))"
      ],
      "execution_count": null,
      "outputs": []
    },
    {
      "metadata": {
        "trusted": true,
        "id": "Bu5_rHgo5qFN"
      },
      "cell_type": "code",
      "source": [
        "category = [\"Target\", \"Pregnant(Y/N)\", \"Weight gain(Y/N)\", \"hair growth(Y/N)\", \"Skin darkening (Y/N)\", \"Hair loss(Y/N)\",\n",
        "            \"Pimples(Y/N)\", \"Fast food (Y/N)\", \"Reg.Exercise(Y/N)\", \"Blood Group\"]\n",
        "for c in category:\n",
        "    bar_plot(c)"
      ],
      "execution_count": null,
      "outputs": []
    },
    {
      "metadata": {
        "id": "-fPOzP5b5qFN"
      },
      "cell_type": "markdown",
      "source": [
        "<a id = \"6\" ></a>\n",
        "## <span style=\"color:purple;\">Numerical Variable</span>"
      ]
    },
    {
      "metadata": {
        "trusted": true,
        "id": "faI2ADYF5qFO"
      },
      "cell_type": "code",
      "source": [
        "def plot_hist(variable):\n",
        "    plt.figure(figsize = (9,3))\n",
        "    plt.hist(data[variable], bins = 50,color=colors[0])\n",
        "    plt.xlabel(variable)\n",
        "    plt.ylabel(\"Frequency\")\n",
        "    plt.title(\"{} distribution with hist\".format(variable))\n",
        "    plt.show()"
      ],
      "execution_count": null,
      "outputs": []
    },
    {
      "metadata": {
        "trusted": true,
        "id": "AN_2weeI5qFO"
      },
      "cell_type": "code",
      "source": [
        "numericVar = [\" Age (yrs)\", \"Weight (Kg)\",\"Marraige Status (Yrs)\"]\n",
        "for n in numericVar:\n",
        "    plot_hist(n)"
      ],
      "execution_count": null,
      "outputs": []
    },
    {
      "metadata": {
        "id": "thceNiu15qFO"
      },
      "cell_type": "markdown",
      "source": [
        "<a id = \"7\" ></a>\n",
        "# <span style=\"color:purple;\">Missing Values</span>"
      ]
    },
    {
      "metadata": {
        "trusted": true,
        "id": "H0FPCXc75qFO"
      },
      "cell_type": "code",
      "source": [
        "data.columns[data.isnull().any()]"
      ],
      "execution_count": null,
      "outputs": []
    },
    {
      "metadata": {
        "id": "Yle0YQhD5qFP"
      },
      "cell_type": "markdown",
      "source": [
        "<div style=\"color:white;\n",
        "           display:fill;\n",
        "           border-radius:5px;\n",
        "           background-color:#008080;\n",
        "           font-size:110%;\n",
        "           font-family:Verdana;\n",
        "           letter-spacing:0.5px\">\n",
        "\n",
        "<p style=\"padding: 10px;color:white;\">\n",
        "    As you can see there are some missing values:Marraige Status (Yrs),II    beta-HCG(mIU/mL), AMH(ng/mL) and Fast food (Y/N). Let's deal with missing values. </p>\n",
        "</div>"
      ]
    },
    {
      "metadata": {
        "trusted": true,
        "id": "cJ68XMK05qFP"
      },
      "cell_type": "code",
      "source": [
        " #Filling missing values with the median value of the features.\n",
        "\n",
        "data['Marraige Status (Yrs)'].fillna(data['Marraige Status (Yrs)'].median(),inplace=True)\n",
        "data['II    beta-HCG(mIU/mL)'].fillna(data['II    beta-HCG(mIU/mL)'].median(),inplace=True)\n",
        "data['AMH(ng/mL)'].fillna(data['AMH(ng/mL)'].median(),inplace=True)\n",
        "data['Fast food (Y/N)'].fillna(data['Fast food (Y/N)'].median(),inplace=True)\n"
      ],
      "execution_count": null,
      "outputs": []
    },
    {
      "metadata": {
        "trusted": true,
        "id": "GylkefMQ5qFP"
      },
      "cell_type": "code",
      "source": [
        "data.isnull().sum()"
      ],
      "execution_count": null,
      "outputs": []
    },
    {
      "metadata": {
        "id": "3t4wYYsl5qFP"
      },
      "cell_type": "markdown",
      "source": [
        "<a id = \"8\" ></a>\n",
        "# <span style=\"color:purple;\">Data Analysis</span>"
      ]
    },
    {
      "metadata": {
        "trusted": true,
        "id": "id0VTlhx5qFP"
      },
      "cell_type": "code",
      "source": [
        "data.describe()"
      ],
      "execution_count": null,
      "outputs": []
    },
    {
      "metadata": {
        "id": "Elt34gPp5qFQ"
      },
      "cell_type": "markdown",
      "source": [
        "<div style=\"color:white;\n",
        "           display:fill;\n",
        "           border-radius:5px;\n",
        "           background-color:#008080;\n",
        "           font-size:110%;\n",
        "           font-family:Verdana;\n",
        "           letter-spacing:0.5px\">\n",
        "\n",
        "<p style=\"padding: 10px;color:white;\">\n",
        "Let's examine the correlation matrix of all features. </p>\n",
        "</div>"
      ]
    },
    {
      "metadata": {
        "trusted": true,
        "id": "LYLCqfKc5qFQ"
      },
      "cell_type": "code",
      "source": [
        "corr_matrix= data.corr()\n",
        "plt.subplots(figsize=(30,10))\n",
        "sns.heatmap(corr_matrix,cmap=\"Set3\", annot = True, fmt = \".2f\");\n",
        "plt.title(\"Correlation Between Features\")\n",
        "plt.show()"
      ],
      "execution_count": null,
      "outputs": []
    },
    {
      "metadata": {
        "id": "E9BubEWu5qFY"
      },
      "cell_type": "markdown",
      "source": [
        "<div style=\"color:white;\n",
        "           display:fill;\n",
        "           border-radius:5px;\n",
        "           background-color:#008080;\n",
        "           font-size:110%;\n",
        "           font-family:Verdana;\n",
        "           letter-spacing:0.5px\">\n",
        "\n",
        "<p style=\"padding: 10px;color:white;\">\n",
        "Let's look at the properties that have a relationship greater than 0.25 with the target.</p>\n",
        "</div>"
      ]
    },
    {
      "metadata": {
        "trusted": true,
        "id": "QXOe3FUO5qFY"
      },
      "cell_type": "code",
      "source": [
        "threshold = 0.25\n",
        "filtre = np.abs(corr_matrix[\"Target\"]) > threshold\n",
        "corr_features = corr_matrix.columns[filtre].tolist()\n",
        "plt.subplots(figsize=(10,7))\n",
        "sns.heatmap(data[corr_features].corr(),cmap=\"Set3\", annot = True, fmt = \".2f\")\n",
        "plt.title(\"Correlation Between Features w Corr Theshold 0.25\")\n",
        "plt.show()"
      ],
      "execution_count": null,
      "outputs": []
    },
    {
      "metadata": {
        "id": "L71fcTBH5qFY"
      },
      "cell_type": "markdown",
      "source": [
        "<a id = \"9\" ></a>\n",
        "# <span style=\"color:purple;\">Modeling</span>"
      ]
    },
    {
      "metadata": {
        "id": "OMg0Cfdq5qFY"
      },
      "cell_type": "markdown",
      "source": [
        "<a id = \"10\" ></a>\n",
        "## <span style=\"color:purple;\">Train - Test Split</span>"
      ]
    },
    {
      "metadata": {
        "trusted": true,
        "id": "QNMymFTJ5qFZ"
      },
      "cell_type": "code",
      "source": [
        "X= data.drop(labels = [\"Target\"],axis = 1)\n",
        "y=data.Target"
      ],
      "execution_count": null,
      "outputs": []
    },
    {
      "metadata": {
        "trusted": true,
        "id": "k3H4vcvZ5qFZ"
      },
      "cell_type": "code",
      "source": [
        "X_train,X_test, y_train, y_test = train_test_split(X,y, test_size=0.3)"
      ],
      "execution_count": null,
      "outputs": []
    },
    {
      "metadata": {
        "trusted": true,
        "id": "0Ix7vlD-5qFZ"
      },
      "cell_type": "code",
      "source": [
        "print(\"X_train\",len(X_train))\n",
        "print(\"X_test\",len(X_test))\n",
        "print(\"y_train\",len(y_train))\n",
        "print(\"y_test\",len(y_test))"
      ],
      "execution_count": null,
      "outputs": []
    },
    {
      "metadata": {
        "id": "E-uE7_w25qFZ"
      },
      "cell_type": "markdown",
      "source": [
        "<a id = \"11\" ></a>\n",
        "## <span style=\"color:purple;\">Simple Logistic Regression</span>"
      ]
    },
    {
      "metadata": {
        "trusted": true,
        "id": "KGFP-WOO5qFa"
      },
      "cell_type": "code",
      "source": [
        "logreg = LogisticRegression()\n",
        "logreg.fit(X_train, y_train)\n",
        "acc_log_train = round(logreg.score(X_train, y_train)*100,2)\n",
        "acc_log_test = round(logreg.score(X_test,y_test)*100,2)\n",
        "print(\"Training Accuracy: % {}\".format(acc_log_train))\n",
        "print(\"Testing Accuracy: % {}\".format(acc_log_test))"
      ],
      "execution_count": null,
      "outputs": []
    },
    {
      "metadata": {
        "id": "o-XJ_rl45qFa"
      },
      "cell_type": "markdown",
      "source": [
        "<a id = \"12\" ></a>\n",
        "## <span style=\"color:purple;\">Hyperparameter Tuning -- Grid Search -- Cross Validation</span>"
      ]
    },
    {
      "metadata": {
        "id": "XC3mwYKu5qFa"
      },
      "cell_type": "markdown",
      "source": [
        "<div style=\"color:white;\n",
        "           display:fill;\n",
        "           border-radius:5px;\n",
        "           background-color:#008080;\n",
        "           font-size:110%;\n",
        "           font-family:Verdana;\n",
        "           letter-spacing:0.5px\">\n",
        "\n",
        "<ul style=\"padding: 10px;color:white;\">\n",
        "We will compare 5 ml classifier and evaluate mean accuracy of each of them by stratified cross validation.\n",
        "<li>Decision Tree</li>\n",
        "<li>SVM</li>\n",
        "<li>Random Forest</li>\n",
        "<li>KNN</li>\n",
        "<li>Logistic Regression</li></ul>\n",
        "</div>"
      ]
    },
    {
      "metadata": {
        "trusted": true,
        "id": "JOKpO0ho5qFa"
      },
      "cell_type": "code",
      "source": [
        "random_state = 42\n",
        "classifier = [DecisionTreeClassifier(random_state = random_state),\n",
        "             SVC(random_state = random_state),\n",
        "             RandomForestClassifier(random_state = random_state),\n",
        "             LogisticRegression(random_state = random_state),\n",
        "             KNeighborsClassifier()]\n",
        "\n",
        "dt_param_grid = {\"min_samples_split\" : range(10,500,20),\n",
        "                \"max_depth\": range(1,20,2)}\n",
        "\n",
        "svc_param_grid = {\"kernel\" : [\"rbf\"],\n",
        "                 \"gamma\": [0.001, 0.01, 0.1, 1],\n",
        "                 \"C\": [1,10,50,100,200,300,1000]}\n",
        "\n",
        "rf_param_grid = {\"max_features\": ['auto', 'sqrt', 'log2'],\n",
        "                \"n_estimators\":[300,500],\n",
        "                \"criterion\":[\"gini\"],\n",
        "                'max_depth' : [4,5,6,7,8,9,10,12],}\n",
        "\n",
        "logreg_param_grid = {\"C\":np.logspace(-3,3,7),\n",
        "                    \"penalty\": [\"l1\",\"l2\"]}\n",
        "\n",
        "knn_param_grid = {\"n_neighbors\": np.linspace(1,19,10, dtype = int).tolist(),\n",
        "                 \"weights\": [\"uniform\",\"distance\"],\n",
        "                 \"metric\":[\"euclidean\",\"manhattan\"]}\n",
        "\n",
        "\n",
        "classifier_param = [dt_param_grid,\n",
        "                   svc_param_grid,\n",
        "                   rf_param_grid,\n",
        "                   logreg_param_grid,\n",
        "                   knn_param_grid]"
      ],
      "execution_count": null,
      "outputs": []
    },
    {
      "metadata": {
        "trusted": true,
        "id": "NsCxkq3Q5qFb"
      },
      "cell_type": "code",
      "source": [
        "cv_result = []\n",
        "best_estimators = []\n",
        "for i in range(len(classifier)):\n",
        "    clf = GridSearchCV(classifier[i], param_grid=classifier_param[i], cv = StratifiedKFold(n_splits = 10), scoring = \"accuracy\", n_jobs = -1,verbose = 1)\n",
        "    clf.fit(X_train,y_train)\n",
        "    cv_result.append(round(clf.best_score_*100,2))\n",
        "    best_estimators.append(clf.best_estimator_)\n",
        "    print(cv_result[i])"
      ],
      "execution_count": null,
      "outputs": []
    },
    {
      "metadata": {
        "trusted": true,
        "id": "6xu6NfGl5qFb"
      },
      "cell_type": "code",
      "source": [
        "best_estimators"
      ],
      "execution_count": null,
      "outputs": []
    },
    {
      "metadata": {
        "trusted": true,
        "id": "eIMDb-CG5qFb"
      },
      "cell_type": "code",
      "source": [
        "dt = best_estimators[0]\n",
        "svm = best_estimators[1]\n",
        "rf = best_estimators[2]\n",
        "lr = best_estimators[3]\n",
        "knn = best_estimators[4]"
      ],
      "execution_count": null,
      "outputs": []
    },
    {
      "metadata": {
        "id": "rz3-_OHJ5qFb"
      },
      "cell_type": "markdown",
      "source": [
        "<a id = \"13\" ></a>\n",
        "## <span style=\"color:purple;\">XGBRF and CatBoost Classsifier</span>"
      ]
    },
    {
      "metadata": {
        "trusted": true,
        "id": "7DOyYo_C5qFb"
      },
      "cell_type": "code",
      "source": [
        "# xgbrf classifier\n",
        "xgb_clf = xgboost.XGBRFClassifier(max_depth=3, random_state=random_state)\n",
        "xgb_clf.fit(X_train,y_train)\n",
        "acc_xgb_clf_train = round(xgb_clf.score(X_train, y_train)*100,2)\n",
        "acc_xgb_clf_test = round(xgb_clf.score(X_test,y_test)*100,2)\n",
        "cv_result.append(acc_xgb_clf_train)\n",
        "print(\"Training Accuracy: % {}\".format(acc_xgb_clf_train))\n",
        "print(\"Testing Accuracy: % {}\".format(acc_xgb_clf_test))"
      ],
      "execution_count": null,
      "outputs": []
    },
    {
      "metadata": {
        "trusted": true,
        "_kg_hide-output": true,
        "id": "xdmE09kA5qFc"
      },
      "cell_type": "code",
      "source": [
        "#CatBoost Classifier\n",
        "cat_clf = CatBoostClassifier()\n",
        "cat_clf.fit(X_train,y_train)\n",
        "acc_cat_clf_train = round(cat_clf.score(X_train, y_train)*100,2)\n",
        "acc_cat_clf_test = round(cat_clf.score(X_test,y_test)*100,2)\n",
        "cv_result.append(acc_cat_clf_train)\n",
        "print(\"Training Accuracy: % {}\".format(acc_cat_clf_train))\n",
        "print(\"Testing Accuracy: % {}\".format(acc_cat_clf_test))"
      ],
      "execution_count": null,
      "outputs": []
    },
    {
      "metadata": {
        "id": "nOVVYW435qFc"
      },
      "cell_type": "markdown",
      "source": [
        "<a id = \"14\" ></a>\n",
        "# <span style=\"color:purple;\">Results</span>"
      ]
    },
    {
      "metadata": {
        "id": "ZKJhJGLG5qFd"
      },
      "cell_type": "markdown",
      "source": [
        "<div style=\"color:white;\n",
        "           display:fill;\n",
        "           border-radius:5px;\n",
        "           background-color:#008080;\n",
        "           font-size:110%;\n",
        "           font-family:Verdana;\n",
        "           letter-spacing:0.5px\">\n",
        "\n",
        "<p style=\"padding: 10px;color:white;\">\n",
        "Let's look at the model,accuracy score and confusion matrix</p>\n",
        "</div>"
      ]
    },
    {
      "metadata": {
        "trusted": true,
        "id": "xPAxaldE5qFd"
      },
      "cell_type": "code",
      "source": [
        "model_list = ['Decision Tree','SVC','RandomForest','Logistic Regression','KNearestNeighbours','XGBRF','CatBoostClassifier']"
      ],
      "execution_count": null,
      "outputs": []
    },
    {
      "metadata": {
        "trusted": true,
        "id": "-XphTMnc5qFd"
      },
      "cell_type": "code",
      "source": [
        "import plotly.graph_objects as go\n",
        "# create trace1\n",
        "trace1 = go.Bar(\n",
        "                x = model_list,\n",
        "                y = cv_result,\n",
        "                marker = dict(color = 'rgb(0, 128, 128)',\n",
        "                              line=dict(color='rgb(0,0,0)',width=1.5)))\n",
        "layout = go.Layout(title = 'Accuracy of different Classifier Models' , xaxis = dict(title = 'Classifier Models'), yaxis = dict(title = '% of Accuracy'))\n",
        "fig = go.Figure(data = [trace1], layout = layout)\n",
        "fig.show()"
      ],
      "execution_count": null,
      "outputs": []
    },
    {
      "metadata": {
        "trusted": true,
        "id": "Jqv12aAl5qFd"
      },
      "cell_type": "code",
      "source": [
        "model = [dt,svm,rf,lr,knn,xgb_clf,cat_clf]\n",
        "predictions = []"
      ],
      "execution_count": null,
      "outputs": []
    },
    {
      "metadata": {
        "trusted": true,
        "id": "gjAkzoio5qFe"
      },
      "cell_type": "code",
      "source": [
        "for i in model:\n",
        "    predictions.append(i.predict(X_test))\n",
        "for j in range(7):\n",
        "    cm = confusion_matrix(y_test, predictions[j])\n",
        "    plot_confusion_matrix(cm, figsize=(12,8), hide_ticks=True, cmap=plt.cm.Set3)\n",
        "    plt.title(\" {} Confusion Matrix\".format(model_list[j]))\n",
        "    plt.xticks(range(2), [\"Not Pcos\",\"Pcos\"], fontsize=16)\n",
        "    plt.yticks(range(2), [\"Not Pcos\",\"Pcos\"], fontsize=16)\n",
        "    plt.show()"
      ],
      "execution_count": null,
      "outputs": []
    }
  ],
  "metadata": {
    "kernelspec": {
      "language": "python",
      "display_name": "Python 3",
      "name": "python3"
    },
    "language_info": {
      "pygments_lexer": "ipython3",
      "nbconvert_exporter": "python",
      "version": "3.6.4",
      "file_extension": ".py",
      "codemirror_mode": {
        "name": "ipython",
        "version": 3
      },
      "name": "python",
      "mimetype": "text/x-python"
    },
    "colab": {
      "provenance": [],
      "include_colab_link": true
    }
  },
  "nbformat": 4,
  "nbformat_minor": 0
}